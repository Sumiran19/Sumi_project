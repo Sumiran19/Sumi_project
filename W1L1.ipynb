{
 "cells": [
  {
   "cell_type": "code",
   "execution_count": null,
   "metadata": {},
   "outputs": [],
   "source": []
  },
  {
   "attachments": {},
   "cell_type": "markdown",
   "metadata": {},
   "source": [
    "Answer 1:"
   ]
  },
  {
   "cell_type": "code",
   "execution_count": 5,
   "metadata": {},
   "outputs": [],
   "source": [
    "#String\n",
    "s=\"string\"\n",
    "#List\n",
    "L=[\"a\",\"b\",\"1\"]\n",
    "#Float\n",
    "F=2.1\n",
    "#Tuple\n",
    "T=(\"a\",\"b\",\"1\")"
   ]
  },
  {
   "attachments": {},
   "cell_type": "markdown",
   "metadata": {},
   "source": [
    "Answer 2:"
   ]
  },
  {
   "attachments": {},
   "cell_type": "markdown",
   "metadata": {},
   "source": [
    "i)string\n",
    "ii)string\n",
    "iii)list\n",
    "iv)float"
   ]
  },
  {
   "attachments": {},
   "cell_type": "markdown",
   "metadata": {},
   "source": [
    "Answer 3:"
   ]
  },
  {
   "attachments": {},
   "cell_type": "markdown",
   "metadata": {},
   "source": [
    "i)division\n",
    "ii)floor division\n",
    "iii)modulo\n",
    "iv)power"
   ]
  },
  {
   "attachments": {},
   "cell_type": "markdown",
   "metadata": {},
   "source": [
    "Answer 4:"
   ]
  },
  {
   "cell_type": "code",
   "execution_count": 6,
   "metadata": {},
   "outputs": [
    {
     "name": "stdout",
     "output_type": "stream",
     "text": [
      "you <class 'str'>\n",
      "I <class 'str'>\n",
      "10 <class 'int'>\n",
      "10.5 <class 'float'>\n",
      "7.0 <class 'float'>\n",
      "king <class 'str'>\n",
      "snake <class 'str'>\n",
      "6 <class 'int'>\n",
      "0.2 <class 'float'>\n",
      "lion <class 'str'>\n"
     ]
    }
   ],
   "source": [
    "list1=[\"you\",\"I\",10,10.5,7.0,\"king\",\"snake\",6,0.2,\"lion\"]\n",
    "for element in list1:\n",
    "    print(element,type(element))\n"
   ]
  },
  {
   "attachments": {},
   "cell_type": "markdown",
   "metadata": {},
   "source": [
    "Answer 5:"
   ]
  },
  {
   "cell_type": "code",
   "execution_count": 7,
   "metadata": {},
   "outputs": [
    {
     "name": "stdout",
     "output_type": "stream",
     "text": [
      "10.0\n"
     ]
    }
   ],
   "source": [
    "A=100\n",
    "B=10\n",
    "while(A%B==0):\n",
    "    print(A/B)\n",
    "    break\n"
   ]
  },
  {
   "attachments": {},
   "cell_type": "markdown",
   "metadata": {},
   "source": [
    "Answer 6:"
   ]
  },
  {
   "cell_type": "code",
   "execution_count": 8,
   "metadata": {},
   "outputs": [
    {
     "name": "stdout",
     "output_type": "stream",
     "text": [
      "no it is not divisible by 3\n",
      "no it is not divisible by 3\n",
      "yes it is divisible by 3\n",
      "no it is not divisible by 3\n",
      "no it is not divisible by 3\n",
      "yes it is divisible by 3\n",
      "no it is not divisible by 3\n",
      "no it is not divisible by 3\n",
      "yes it is divisible by 3\n",
      "no it is not divisible by 3\n",
      "no it is not divisible by 3\n",
      "yes it is divisible by 3\n",
      "no it is not divisible by 3\n",
      "no it is not divisible by 3\n",
      "yes it is divisible by 3\n",
      "no it is not divisible by 3\n",
      "no it is not divisible by 3\n",
      "yes it is divisible by 3\n",
      "no it is not divisible by 3\n",
      "no it is not divisible by 3\n",
      "yes it is divisible by 3\n",
      "no it is not divisible by 3\n",
      "no it is not divisible by 3\n",
      "yes it is divisible by 3\n",
      "no it is not divisible by 3\n"
     ]
    }
   ],
   "source": [
    "list_25=[1,2,3,4,5,6,7,8,9,10,11,12,13,14,15,16,17,18,19,20,21,22,23,24,25]\n",
    "for x in list_25:\n",
    "    if x%3==0:\n",
    "        print(\"yes it is divisible by 3\")\n",
    "    else:\n",
    "        print(\"no it is not divisible by 3\")"
   ]
  },
  {
   "attachments": {},
   "cell_type": "markdown",
   "metadata": {},
   "source": [
    "Answer 7:"
   ]
  },
  {
   "cell_type": "code",
   "execution_count": 10,
   "metadata": {},
   "outputs": [
    {
     "name": "stdout",
     "output_type": "stream",
     "text": [
      "1\n",
      "4\n",
      "k\n"
     ]
    },
    {
     "ename": "TypeError",
     "evalue": "'str' object does not support item assignment",
     "output_type": "error",
     "traceback": [
      "\u001b[1;31m---------------------------------------------------------------------------\u001b[0m",
      "\u001b[1;31mTypeError\u001b[0m                                 Traceback (most recent call last)",
      "Cell \u001b[1;32mIn[10], line 8\u001b[0m\n\u001b[0;32m      6\u001b[0m s\u001b[39m=\u001b[39m\u001b[39m\"\u001b[39m\u001b[39mking\u001b[39m\u001b[39m\"\u001b[39m\n\u001b[0;32m      7\u001b[0m \u001b[39mprint\u001b[39m(s[\u001b[39m0\u001b[39m])\n\u001b[1;32m----> 8\u001b[0m s[\u001b[39m0\u001b[39;49m]\u001b[39m=\u001b[39m\u001b[39m\"\u001b[39m\u001b[39mR\u001b[39m\u001b[39m\"\u001b[39m\n\u001b[0;32m      9\u001b[0m \u001b[39mprint\u001b[39m(s[\u001b[39m0\u001b[39m])\n",
      "\u001b[1;31mTypeError\u001b[0m: 'str' object does not support item assignment"
     ]
    }
   ],
   "source": [
    "#In mutable data type we can change any position value at any point of time example-list, while for immutable data type any position value can't be changed at any point of time exmple-string.\n",
    "l=[1,2,3]\n",
    "print(l[0])\n",
    "l[0]=4\n",
    "print(l[0])\n",
    "s=\"king\"\n",
    "print(s[0])\n",
    "s[0]=\"R\"\n",
    "print(s[0])"
   ]
  }
 ],
 "metadata": {
  "kernelspec": {
   "display_name": "venv",
   "language": "python",
   "name": "python3"
  },
  "language_info": {
   "codemirror_mode": {
    "name": "ipython",
    "version": 3
   },
   "file_extension": ".py",
   "mimetype": "text/x-python",
   "name": "python",
   "nbconvert_exporter": "python",
   "pygments_lexer": "ipython3",
   "version": "3.10.5"
  },
  "orig_nbformat": 4
 },
 "nbformat": 4,
 "nbformat_minor": 2
}
